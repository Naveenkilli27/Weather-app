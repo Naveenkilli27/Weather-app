{
 "cells": [
  {
   "cell_type": "code",
   "execution_count": 1,
   "metadata": {},
   "outputs": [],
   "source": [
    "import requests"
   ]
  },
  {
   "cell_type": "code",
   "execution_count": 2,
   "metadata": {},
   "outputs": [],
   "source": [
    "api_key = 'dbad53c77edb83e07bb23c4665a3bfaa'\n",
    "city = 'Hyderabad'\n",
    "url = f\"https://api.openweathermap.org/data/2.5/weather?q={city}&appid={api_key}\"\n",
    "\n",
    "response = requests.get(url)\n",
    "data = response.json()"
   ]
  },
  {
   "cell_type": "code",
   "execution_count": 3,
   "metadata": {},
   "outputs": [
    {
     "data": {
      "text/plain": [
       "200"
      ]
     },
     "execution_count": 3,
     "metadata": {},
     "output_type": "execute_result"
    }
   ],
   "source": [
    "response.status_code"
   ]
  },
  {
   "cell_type": "code",
   "execution_count": 4,
   "metadata": {},
   "outputs": [
    {
     "data": {
      "text/plain": [
       "{'coord': {'lon': 78.4744, 'lat': 17.3753},\n",
       " 'weather': [{'id': 721,\n",
       "   'main': 'Haze',\n",
       "   'description': 'haze',\n",
       "   'icon': '50d'}],\n",
       " 'base': 'stations',\n",
       " 'main': {'temp': 299.38,\n",
       "  'feels_like': 299.38,\n",
       "  'temp_min': 299.38,\n",
       "  'temp_max': 299.88,\n",
       "  'pressure': 1007,\n",
       "  'humidity': 73,\n",
       "  'sea_level': 1007,\n",
       "  'grnd_level': 952},\n",
       " 'visibility': 5000,\n",
       " 'wind': {'speed': 6.17, 'deg': 230, 'gust': 11.32},\n",
       " 'clouds': {'all': 75},\n",
       " 'dt': 1724647019,\n",
       " 'sys': {'type': 1,\n",
       "  'id': 9214,\n",
       "  'country': 'IN',\n",
       "  'sunrise': 1724632289,\n",
       "  'sunset': 1724677484},\n",
       " 'timezone': 19800,\n",
       " 'id': 1269843,\n",
       " 'name': 'Hyderabad',\n",
       " 'cod': 200}"
      ]
     },
     "execution_count": 4,
     "metadata": {},
     "output_type": "execute_result"
    }
   ],
   "source": [
    "data"
   ]
  },
  {
   "cell_type": "code",
   "execution_count": 5,
   "metadata": {},
   "outputs": [],
   "source": [
    "temperature = data['main']['temp']"
   ]
  },
  {
   "cell_type": "code",
   "execution_count": 6,
   "metadata": {},
   "outputs": [],
   "source": [
    "description = data['weather'][0]['description']"
   ]
  },
  {
   "cell_type": "code",
   "execution_count": 7,
   "metadata": {},
   "outputs": [
    {
     "name": "stdout",
     "output_type": "stream",
     "text": [
      "The temperature in Hyderabad is 299.38 Kelvin and the weather is described as haze.\n"
     ]
    }
   ],
   "source": [
    "print(f'The temperature in {city} is {temperature} Kelvin and the weather is described as {description}.')"
   ]
  },
  {
   "cell_type": "code",
   "execution_count": 8,
   "metadata": {},
   "outputs": [
    {
     "data": {
      "text/plain": [
       "26.230000000000018"
      ]
     },
     "execution_count": 8,
     "metadata": {},
     "output_type": "execute_result"
    }
   ],
   "source": [
    "temperature_celsius = temperature - 273.15\n",
    "temperature_celsius"
   ]
  },
  {
   "cell_type": "code",
   "execution_count": 9,
   "metadata": {},
   "outputs": [
    {
     "name": "stdout",
     "output_type": "stream",
     "text": [
      "The temperature in Hyderabad is 26.23 Celsius and the weather is described as haze.\n"
     ]
    }
   ],
   "source": [
    "print(f'The temperature in {city} is {temperature_celsius:.2f} Celsius and the weather is described as {description}.')"
   ]
  },
  {
   "cell_type": "code",
   "execution_count": null,
   "metadata": {},
   "outputs": [],
   "source": []
  }
 ],
 "metadata": {
  "kernelspec": {
   "display_name": "env",
   "language": "python",
   "name": "python3"
  },
  "language_info": {
   "codemirror_mode": {
    "name": "ipython",
    "version": 3
   },
   "file_extension": ".py",
   "mimetype": "text/x-python",
   "name": "python",
   "nbconvert_exporter": "python",
   "pygments_lexer": "ipython3",
   "version": "3.11.7"
  }
 },
 "nbformat": 4,
 "nbformat_minor": 2
}
